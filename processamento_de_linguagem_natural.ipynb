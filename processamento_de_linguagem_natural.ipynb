{
  "nbformat": 4,
  "nbformat_minor": 0,
  "metadata": {
    "colab": {
      "name": "processamento-de-linguagem-natural.ipynb",
      "provenance": [],
      "authorship_tag": "ABX9TyNaTXMSFMnorMh9neRnRuOV",
      "include_colab_link": true
    },
    "kernelspec": {
      "name": "python3",
      "display_name": "Python 3"
    },
    "language_info": {
      "name": "python"
    }
  },
  "cells": [
    {
      "cell_type": "markdown",
      "metadata": {
        "id": "view-in-github",
        "colab_type": "text"
      },
      "source": [
        "<a href=\"https://colab.research.google.com/github/WMFrts/processamento-de-linguagem-natural/blob/main/processamento_de_linguagem_natural.ipynb\" target=\"_parent\"><img src=\"https://colab.research.google.com/assets/colab-badge.svg\" alt=\"Open In Colab\"/></a>"
      ]
    },
    {
      "cell_type": "code",
      "execution_count": null,
      "metadata": {
        "id": "pgQkmWOWb_v6"
      },
      "outputs": [],
      "source": [
        ""
      ]
    },
    {
      "cell_type": "markdown",
      "source": [
        "<h2><center>PROCESSAMENTO DE LINGUAGEM NATURAL (PLN)</center></h>\n",
        "\n",
        "\n",
        "<p align = 'JUSTIFY'>Processamento de linguagem natural é uma vertente da inteligência artificial que ajuda computadores a entender, interpretar e manipular a linguagem humana. O PLN resulta de diversas disciplinas, incluindo ciência da computação e linguística computacional, que buscam preencher a lacuna entre a comunicação humana e o entendimento dos computadores."
      ],
      "metadata": {
        "id": "6pV1-i-HdJiR"
      }
    },
    {
      "cell_type": "markdown",
      "source": [
        "**1 BIBLIOTECAS**"
      ],
      "metadata": {
        "id": "_Tvdec7IhuYj"
      }
    },
    {
      "cell_type": "code",
      "source": [
        "#importação de bibliotecas\n",
        "\n",
        "import bs4 as bs   #para leitura e processamento de dados da web\n",
        "import urllib.request   #para fazer requesição \n",
        "import nltk    #Natural Language Toolkit\n",
        "import spacy "
      ],
      "metadata": {
        "id": "wiB3TFWDfAXE"
      },
      "execution_count": 1,
      "outputs": []
    },
    {
      "cell_type": "code",
      "source": [
        "!python3 -m spacy download pt   #pacotes em português"
      ],
      "metadata": {
        "id": "1aUsHqLEhMb_"
      },
      "execution_count": null,
      "outputs": []
    },
    {
      "cell_type": "markdown",
      "source": [
        "**2 MARCAÇÃO POS (PART-OF-SPEECH)**\n",
        "\n",
        "<p align = 'JUSTIFY'> É preciso saber o que o texto contém, para tanto, a marcação pos, atribui às palavras as devidas classes, como substantivos, adjetivos, verbos etc \n",
        "\n"
      ],
      "metadata": {
        "id": "rEOqq220iaPm"
      }
    },
    {
      "cell_type": "code",
      "source": [
        "pln = spacy.load('pt')   #carregamento do modelo em português para o objeto\n",
        "pln"
      ],
      "metadata": {
        "colab": {
          "base_uri": "https://localhost:8080/"
        },
        "id": "Sg1F4n8thd4X",
        "outputId": "e05941f9-c2f7-47ec-a6c7-c15805de9f31"
      },
      "execution_count": 3,
      "outputs": [
        {
          "output_type": "execute_result",
          "data": {
            "text/plain": [
              "<spacy.lang.pt.Portuguese at 0x7f0d094c6bd0>"
            ]
          },
          "metadata": {},
          "execution_count": 3
        }
      ]
    },
    {
      "cell_type": "code",
      "source": [
        "documento = pln('O funcionamento do Spacy é por orientação a objeto. Aqui foi criado o objeto pln, então aqui os métodos serão chamados')\n"
      ],
      "metadata": {
        "id": "oOBMeBqUjny7"
      },
      "execution_count": 7,
      "outputs": []
    },
    {
      "cell_type": "code",
      "source": [
        "type(documento)"
      ],
      "metadata": {
        "colab": {
          "base_uri": "https://localhost:8080/"
        },
        "id": "ZUa-6UsflSR1",
        "outputId": "a139001a-e85b-49f3-b514-e6466f227b2c"
      },
      "execution_count": 8,
      "outputs": [
        {
          "output_type": "execute_result",
          "data": {
            "text/plain": [
              "spacy.tokens.doc.Doc"
            ]
          },
          "metadata": {},
          "execution_count": 8
        }
      ]
    },
    {
      "cell_type": "code",
      "source": [
        "for token in documento:\n",
        "  print(token.text, token.pos_)"
      ],
      "metadata": {
        "colab": {
          "base_uri": "https://localhost:8080/"
        },
        "id": "9kZ0Mh1hlazs",
        "outputId": "e81195ef-0eae-4161-b4b7-1adac2cc3af6"
      },
      "execution_count": 10,
      "outputs": [
        {
          "output_type": "stream",
          "name": "stdout",
          "text": [
            "O DET\n",
            "funcionamento NOUN\n",
            "do PROPN\n",
            "Spacy PROPN\n",
            "é VERB\n",
            "por ADP\n",
            "orientação NOUN\n",
            "a ADP\n",
            "objeto NOUN\n",
            ". PUNCT\n",
            "Aqui ADV\n",
            "foi AUX\n",
            "criado VERB\n",
            "o DET\n",
            "objeto PROPN\n",
            "pln PROPN\n",
            ", PUNCT\n",
            "então ADV\n",
            "aqui ADV\n",
            "os DET\n",
            "métodos SYM\n",
            "serão AUX\n",
            "chamados VERB\n"
          ]
        }
      ]
    },
    {
      "cell_type": "markdown",
      "source": [
        "**3 LEMATIZAÇÃO E STEMIZAÇÃO**\n",
        "\n",
        "<p align = 'JUSTIFY'> O processo de stemização (stemming) consiste em reduzir uma palavra ao seu radical. Já a lematização reduz a palavra ao seu lema, que é a forma no masculino e singular."
      ],
      "metadata": {
        "id": "BDq1hDJvmTpR"
      }
    },
    {
      "cell_type": "code",
      "source": [
        "for token in documento:\n",
        "  print(token.text, token.lemma_)"
      ],
      "metadata": {
        "colab": {
          "base_uri": "https://localhost:8080/"
        },
        "id": "kC3YvfstmRCQ",
        "outputId": "90a3c76d-3196-43b3-ab3a-fd43184b28c2"
      },
      "execution_count": 11,
      "outputs": [
        {
          "output_type": "stream",
          "name": "stdout",
          "text": [
            "O O\n",
            "funcionamento funcionamento\n",
            "do do\n",
            "Spacy Spacy\n",
            "é ser\n",
            "por por\n",
            "orientação orientação\n",
            "a o\n",
            "objeto objeto\n",
            ". .\n",
            "Aqui Aqui\n",
            "foi ser\n",
            "criado criar\n",
            "o o\n",
            "objeto objeto\n",
            "pln pln\n",
            ", ,\n",
            "então então\n",
            "aqui aqui\n",
            "os o\n",
            "métodos método\n",
            "serão ser\n",
            "chamados chamar\n"
          ]
        }
      ]
    },
    {
      "cell_type": "code",
      "source": [
        "doc = pln('um lematizador opera em uma única palavra sem conhecimento do contexto e,portanto, não pode discriminar entre palavras que têm significados diferentes dependendo da classe gramatical.')\n",
        "[token.lemma_ for token in doc]   #criação de uma lista "
      ],
      "metadata": {
        "colab": {
          "base_uri": "https://localhost:8080/"
        },
        "id": "V-mTqh0WnY6p",
        "outputId": "bd46a98a-f31b-47d0-9169-21ec39df08a9"
      },
      "execution_count": 14,
      "outputs": [
        {
          "output_type": "execute_result",
          "data": {
            "text/plain": [
              "['um',\n",
              " 'lematizador',\n",
              " 'operar',\n",
              " 'em',\n",
              " 'umar',\n",
              " 'único',\n",
              " 'palavra',\n",
              " 'sem',\n",
              " 'conhecimento',\n",
              " 'do',\n",
              " 'contexto',\n",
              " 'e',\n",
              " ',',\n",
              " 'portanto',\n",
              " ',',\n",
              " 'não',\n",
              " 'poder',\n",
              " 'discriminar',\n",
              " 'entrar',\n",
              " 'palavra',\n",
              " 'que',\n",
              " 'ter',\n",
              " 'significar',\n",
              " 'diferente',\n",
              " 'depender',\n",
              " 'da',\n",
              " 'classe',\n",
              " 'gramatical',\n",
              " '.']"
            ]
          },
          "metadata": {},
          "execution_count": 14
        }
      ]
    },
    {
      "cell_type": "code",
      "source": [
        "#stemização com nltk\n",
        "\n",
        "import nltk\n",
        "nltk.download('rslp')"
      ],
      "metadata": {
        "colab": {
          "base_uri": "https://localhost:8080/"
        },
        "id": "XX_ljm29oGea",
        "outputId": "48f47c4c-87d1-48f3-bf34-2f0032f0af17"
      },
      "execution_count": 16,
      "outputs": [
        {
          "output_type": "stream",
          "name": "stdout",
          "text": [
            "[nltk_data] Downloading package rslp to /root/nltk_data...\n",
            "[nltk_data]   Package rslp is already up-to-date!\n"
          ]
        },
        {
          "output_type": "execute_result",
          "data": {
            "text/plain": [
              "True"
            ]
          },
          "metadata": {},
          "execution_count": 16
        }
      ]
    },
    {
      "cell_type": "code",
      "source": [
        "stemmer = nltk.stem.RSLPStemmer()\n",
        "stemmer.stem('processamento')"
      ],
      "metadata": {
        "colab": {
          "base_uri": "https://localhost:8080/",
          "height": 35
        },
        "id": "W-MwkrN5pLxE",
        "outputId": "c49a8645-b986-41ce-8e65-ca0f5ecd14dd"
      },
      "execution_count": 21,
      "outputs": [
        {
          "output_type": "execute_result",
          "data": {
            "application/vnd.google.colaboratory.intrinsic+json": {
              "type": "string"
            },
            "text/plain": [
              "'process'"
            ]
          },
          "metadata": {},
          "execution_count": 21
        }
      ]
    },
    {
      "cell_type": "code",
      "source": [
        "for token in documento:\n",
        "  print(token.text, token.lemma_, stemmer.stem(token.text))\n",
        "  "
      ],
      "metadata": {
        "colab": {
          "base_uri": "https://localhost:8080/"
        },
        "id": "_FDoVgggqoO0",
        "outputId": "68212c83-e37b-49a4-ac0f-90d8f2c7a13d"
      },
      "execution_count": 22,
      "outputs": [
        {
          "output_type": "stream",
          "name": "stdout",
          "text": [
            "O O o\n",
            "funcionamento funcionamento funcion\n",
            "do do do\n",
            "Spacy Spacy spacy\n",
            "é ser é\n",
            "por por por\n",
            "orientação orientação orient\n",
            "a o a\n",
            "objeto objeto objet\n",
            ". . .\n",
            "Aqui Aqui aqu\n",
            "foi ser foi\n",
            "criado criar cri\n",
            "o o o\n",
            "objeto objeto objet\n",
            "pln pln pln\n",
            ", , ,\n",
            "então então ent\n",
            "aqui aqui aqu\n",
            "os o os\n",
            "métodos método métod\n",
            "serão ser ser\n",
            "chamados chamar cham\n"
          ]
        }
      ]
    }
  ]
}